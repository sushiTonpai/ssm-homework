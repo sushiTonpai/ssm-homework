{
 "cells": [
  {
   "cell_type": "markdown",
   "metadata": {},
   "source": [
    "## Homework 1.1 - Electro static potential of a square disc\n",
    "\n",
    "Consider a square region in the $xy$-plane, such that $-1 \\le x \\le 1$ and $-1 \\le y \\le 1$, containing a uniform charge distribution $\\rho$. The electro static potential at the point $(x_p, y_p)$ due to this charge distribution is obtained by integrating over the charged region.\n",
    "\n",
    "$$\\Phi ({x_p},{y_p}) = \\frac{\\rho }{{4\\pi {\\varepsilon _0}}}\\int_{ - 1}^1 {\\int_{ - 1}^1 {\\frac{1}{{\\sqrt {{{(x - {x_p})}^2} + {{(y - {y_p})}^2}} }}} {dxdy} } $$\n",
    "\n",
    "For simplicity, use $\\frac{\\rho }{{4\\pi {\\varepsilon _0}}} = 1$. Evaluate the electric potentials $\\Phi(2, 2)$, $\\Phi(2, 4)$, $\\Phi(5, 10)$ and  $\\Phi(15, 15)$."
   ]
  },
  {
   "cell_type": "code",
   "execution_count": 1,
   "metadata": {},
   "outputs": [],
   "source": [
    "%config Completer.use_jedi = False\n",
    "from scipy import integrate\n",
    "import numpy as np\n",
    "import math"
   ]
  },
  {
   "cell_type": "code",
   "execution_count": 9,
   "metadata": {},
   "outputs": [],
   "source": [
    "# def integrand(t, n, x):\n",
    "#     return math.exp(-x*t) / t**n\n",
    "\n",
    "# def expint(n, x): #E(n,x)\n",
    "#     r_enx = integrate.quad(integrand, 1, np.inf, args=(n, x))\n",
    "#     return r_enx[0]\n",
    "\n",
    "\n",
    "def integrand(x,y,xp,yp):\n",
    "    return 1/((x-xp)**2+(y-yp)**2)**1/2\n",
    "\n",
    "def dyint(xp,yp,y):\n",
    "    r = integrate.quad(integrand, -1, 1, args=(xp,yp,y))\n",
    "    return r[0]\n",
    "\n",
    "ans_1 = integrate.quad(lambda y: dyint(2,2,y),-1,1)\n",
    "ans_2 = integrate.quad(lambda y: dyint(2,4,y),-1,1)\n",
    "ans_3 = integrate.quad(lambda y: dyint(5,10,y),-1,1)\n",
    "ans_4 = integrate.quad(lambda y: dyint(15,15,y),-1,1)\n",
    "ans_list = [ans_1,ans_2,ans_3,ans_4]"
   ]
  },
  {
   "cell_type": "code",
   "execution_count": 10,
   "metadata": {},
   "outputs": [
    {
     "name": "stdout",
     "output_type": "stream",
     "text": [
      "(0.27625644809756944, 3.0670626937908613e-15)\n",
      "(0.10353782661750495, 1.1495007903040139e-15)\n",
      "(0.016086130808008012, 1.7859192800182569e-16)\n",
      "(0.004451054239467201, 4.9416629005119016e-17)\n"
     ]
    }
   ],
   "source": [
    "for ans in ans_list:\n",
    "    print(ans)"
   ]
  },
  {
   "cell_type": "code",
   "execution_count": null,
   "metadata": {},
   "outputs": [],
   "source": []
  }
 ],
 "metadata": {
  "kernelspec": {
   "display_name": "Python 3",
   "language": "python",
   "name": "python3"
  },
  "language_info": {
   "codemirror_mode": {
    "name": "ipython",
    "version": 3
   },
   "file_extension": ".py",
   "mimetype": "text/x-python",
   "name": "python",
   "nbconvert_exporter": "python",
   "pygments_lexer": "ipython3",
   "version": "3.8.5"
  }
 },
 "nbformat": 4,
 "nbformat_minor": 1
}
