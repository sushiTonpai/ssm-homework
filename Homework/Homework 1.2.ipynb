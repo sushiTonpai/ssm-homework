{
 "cells": [
  {
   "cell_type": "markdown",
   "metadata": {},
   "source": [
    "## Homework 1.2 - Projectile motion under strong air resistance\n",
    "\n",
    "Consider a projectile problem under gravity $\\mathbf g$ and air resistance that is directly proportional to the square of its speed, i.e. $c |\\mathbf v|^2$.\n",
    "\n",
    "Given that $g = 9.8\\;m/s^2$ and $c = 0.1\\;m^{-1}$.\n",
    "\n",
    "Subjected to the initial conditions:\n",
    "\n",
    "$$x = 0, y = 0, v_x = 20 \\; m/s \\; \\text{and}\\;  v_y = 0$$\n",
    "\n",
    "First **write down** the governing equation of motion.\n",
    "\n",
    "Hence, **write down** the vector $\\mathbf{v}$ and the matrix equation for $\\frac{d\\mathbf{v}}{dt}$.\n",
    "\n",
    "**Solve** the problem for $x$ and $y$ on the time interval $0 \\le t \\le 10\\; s$..\n",
    "\n",
    "Then, **plot graph** of both components as function of time."
   ]
  },
  {
   "cell_type": "code",
   "execution_count": null,
   "metadata": {
    "collapsed": true
   },
   "outputs": [],
   "source": []
  }
 ],
 "metadata": {
  "kernelspec": {
   "display_name": "Python 3 (ipykernel)",
   "language": "python",
   "name": "python3"
  },
  "language_info": {
   "codemirror_mode": {
    "name": "ipython",
    "version": 3
   },
   "file_extension": ".py",
   "mimetype": "text/x-python",
   "name": "python",
   "nbconvert_exporter": "python",
   "pygments_lexer": "ipython3",
   "version": "3.9.6"
  }
 },
 "nbformat": 4,
 "nbformat_minor": 1
}
