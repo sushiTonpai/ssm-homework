{
 "cells": [
  {
   "cell_type": "markdown",
   "metadata": {},
   "source": [
    "### Homework 1.4.1 - Shooting Method\n",
    "\n",
    "By using shooting method, solve\n",
    "\n",
    "$$\n",
    "\\frac{d^2 T}{d x^2} + \\alpha (T_0 - T) = 0\n",
    "$$\n",
    "\n",
    "Where $\\alpha = 5\\times10^{-2}$, and $T_0 = 20$, subjected to $T(0) = 50$ and $T(10) = 200$"
   ]
  },
  {
   "cell_type": "code",
   "execution_count": 6,
   "metadata": {},
   "outputs": [],
   "source": [
    "import numpy as np\n",
    "import matplotlib.pyplot as plt\n",
    "from scipy.integrate import odeint\n",
    "%matplotlib inline\n",
    "from scipy.optimize import brentq\n"
   ]
  },
  {
   "cell_type": "code",
   "execution_count": 103,
   "metadata": {},
   "outputs": [
    {
     "name": "stdout",
     "output_type": "stream",
     "text": [
      "0.05\n"
     ]
    },
    {
     "data": {
      "image/png": "[encoded data removed]",
      "text/plain": [
       "<Figure size 432x288 with 1 Axes>"
      ]
     },
     "metadata": {
      "needs_background": "light"
     },
     "output_type": "display_data"
    }
   ],
   "source": [
    "a = 5*10**(-2)\n",
    "t0 = 20\n",
    "\n",
    "x = np.linspace(0, 10, 10)\n",
    "#init value \n",
    "ti = 50\n",
    "tdot = 5    # guess value\n",
    "# final value\n",
    "tf = 10 \n",
    "yf = 200\n",
    "\n",
    "def rhs(y,x):\n",
    "    return[\n",
    "        y[1],\n",
    "        -a*(t0-y[0])\n",
    "    ]\n",
    "\n",
    "\n",
    "def obf(tdot):\n",
    "    sol = odeint(rhs,[ti,tdot],x)\n",
    "    yff = sol[-1,0]\n",
    "    \n",
    "    return yff-yf\n",
    "\n",
    "# sol = odeint(rhs,[ti,tdot],x)\n",
    "tdot = brentq(obf,-100,100)\n",
    "tdot\n",
    "\n",
    "plt.plot(x,odeint(rhs,[ti,tdot],x)[:,0])\n",
    "print(a)\n"
   ]
  },
  {
   "cell_type": "markdown",
   "metadata": {},
   "source": [
    "___\n",
    "### Homework 1.4.2 - Finite Difference Method\n",
    "\n",
    "Solve Homework 1.4.1 using finite difference method"
   ]
  },
  {
   "cell_type": "code",
   "execution_count": 104,
   "metadata": {},
   "outputs": [
    {
     "name": "stdout",
     "output_type": "stream",
     "text": [
      "[[-2.000005  1.        0.       ...  0.        0.        0.      ]\n",
      " [ 1.       -2.000005  1.       ...  0.        0.        0.      ]\n",
      " [ 0.        1.       -2.000005 ...  0.        0.        0.      ]\n",
      " ...\n",
      " [ 0.        0.        0.       ... -2.000005  1.        0.      ]\n",
      " [ 0.        0.        0.       ...  1.       -2.000005  1.      ]\n",
      " [ 0.        0.        0.       ...  0.        1.       -2.000005]]\n",
      "[[ 1.        0.        0.       ...  0.        0.        0.      ]\n",
      " [ 1.       -2.000005  1.       ...  0.        0.        0.      ]\n",
      " [ 0.        1.       -2.000005 ...  0.        0.        0.      ]\n",
      " ...\n",
      " [ 0.        0.        0.       ... -2.000005  1.        0.      ]\n",
      " [ 0.        0.        0.       ...  1.       -2.000005  1.      ]\n",
      " [ 0.        0.        0.       ...  0.        0.        1.      ]]\n",
      "[ 5.e+01 -1.e-04 -1.e-04 ... -1.e-04 -1.e-04  2.e+02]\n"
     ]
    },
    {
     "data": {
      "text/plain": [
       "[<matplotlib.lines.Line2D at 0x207889bf070>]"
      ]
     },
     "execution_count": 104,
     "metadata": {},
     "output_type": "execute_result"
    },
    {
     "data": {
      "image/png": "[encoded data removed]",
      "text/plain": [
       "<Figure size 432x288 with 1 Axes>"
      ]
     },
     "metadata": {
      "needs_background": "light"
     },
     "output_type": "display_data"
    }
   ],
   "source": [
    "from scipy.sparse import diags\n",
    "n = 1000 \n",
    "h = (10-0)/n\n",
    "\n",
    "\n",
    "# A \n",
    "A = diags([1,(-2-a*h**2), 1], [-1, 0, 1], shape=(n+1, n+1)).toarray()\n",
    "print(A)\n",
    "\n",
    "# fill zero for first and last row\n",
    "for i in range(len(A[0])):\n",
    "    A[0][i] = 0\n",
    "    A[-1][i] = 0\n",
    "\n",
    "# fill correct first and last row \n",
    "A[0][0] = 1\n",
    "A[-1][-1] = 1 \n",
    "print(A)\n",
    "\n",
    "# B\n",
    "B = np.zeros(n+1)\n",
    "B[0] = 50\n",
    "B[-1] = 200\n",
    "B[1:-1] = -a*t0 * h**2\n",
    "print(B)\n",
    "\n",
    "y = np.linalg.solve(A, B)\n",
    "x = np.linspace(0, 10, n+1)\n",
    "plt.plot(x,y)"
   ]
  }
 ],
 "metadata": {
  "kernelspec": {
   "display_name": "Python 3",
   "language": "python",
   "name": "python3"
  },
  "language_info": {
   "codemirror_mode": {
    "name": "ipython",
    "version": 3
   },
   "file_extension": ".py",
   "mimetype": "text/x-python",
   "name": "python",
   "nbconvert_exporter": "python",
   "pygments_lexer": "ipython3",
   "version": "3.9.7"
  }
 },
 "nbformat": 4,
 "nbformat_minor": 1
}
