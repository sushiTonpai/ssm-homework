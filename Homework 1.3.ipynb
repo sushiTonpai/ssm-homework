{
 "cells": [
  {
   "cell_type": "markdown",
   "metadata": {},
   "source": [
    "## Homework 1.3.1 - Pythagorean Problem\n",
    "\n",
    "Consider three bodies of mass, $m1 = 3$, $m_2 = 4$, and $m_3 = 5$, located coordinate $(x, y)$ at $(1, 3)$, $(-2, -1)$ and $(1, -1)$ respectively. All are initially at rest. The interaction between particles are given by Newton's second law of motion and Newton's gravitational law:\n",
    "\n",
    "$${{\\vec F}_i} = {m_i}{a_i} =  - G\\sum\\limits_{i \\ne j} {{m_i}{m_j}\\frac{{{{\\vec r}_i} - {{\\vec r}_j}}}{{{{\\left| {{{\\vec r}_i} - {{\\vec r}_j}} \\right|}^3}}}} $$\n",
    "\n",
    "Using $G = 4 \\pi^2$, investigate the motion of the particles from $t = 0$ to $t = 10$"
   ]
  },
  {
   "cell_type": "markdown",
   "metadata": {},
   "source": [
    "$$ \\ddot{{{\\vec r}_i}} = \\frac{- G\\sum\\limits_{i \\ne j} {{m_i}{m_j}\\frac{{{{\\vec r}_i} - {{\\vec r}_j}}}{{{{\\left| {{{\\vec r}_i} - {{\\vec r}_j}} \\right|}^3}}}}}{m_i} $$\n",
    "\n",
    "$${{\\vec v}_0} = 0 ,\n",
    "{{\\vec r}_0} = (x0,y0)$$"
   ]
  },
  {
   "cell_type": "code",
   "execution_count": 1,
   "metadata": {},
   "outputs": [],
   "source": [
    "from scipy.integrate import odeint\n",
    "import matplotlib.pyplot as plt\n",
    "import numpy as np\n",
    "import math"
   ]
  },
  {
   "cell_type": "code",
   "execution_count": 8,
   "metadata": {},
   "outputs": [],
   "source": [
    "t = np.arange(0, 10.0, 0.01)\n",
    "\n",
    "# constant\n",
    "G = 4*math.pi**2\n",
    "m1 = 3\n",
    "m2 = 4 \n",
    "m3 = 5\n",
    "\n",
    "# vector position\n",
    "pos1 = np.array([1,3])\n",
    "pos2 = np.array([-2,-1])\n",
    "pos3 = np.array([1,-1])\n",
    "# print(pos1 - pos2)\n",
    "# print(np.linalg.norm(pos1))\n",
    "\n",
    "@dataclass\n",
    "class particles:\n",
    "    position: np.array\n",
    "    mass: float\n",
    "    \n",
    "\n",
    "    "
   ]
  },
  {
   "cell_type": "markdown",
   "metadata": {},
   "source": [
    "___\n",
    "## Homework 1.3.2 - Double Pendulum\n",
    "![alt text](images/double-pendulum.png \"Double Pendulum\")\n",
    "\n",
    "The equations of motion for the double pendulum are given by [from http://scienceworld.wolfram.com/physics/DoublePendulum.html]:\n",
    "\n",
    "$$({m_1} + {m_2}){l_1}{{\\ddot \\theta }_1} + {m_2}{l_2}{{\\ddot \\theta }_2}\\cos ({\\theta _1} - {\\theta _2}) + {m_2}{l_2}{({{\\dot \\theta }_2})^2}\\sin ({\\theta _1} - {\\theta _2}) + ({m_1} + {m_2})g\\sin {\\theta _1} = 0$$\n",
    "\n",
    "$${m_2}{l_2}{{\\ddot \\theta }_2} + {m_2}{l_1}{{\\ddot \\theta }_1}\\cos ({\\theta _1} - {\\theta _2}) - {m_2}{l_1}{({{\\dot \\theta }_1})^2}\\sin ({\\theta _1} - {\\theta _2}) + {m_2}g\\sin {\\theta _2} = 0$$\n",
    "\n",
    "Given that $l_1 = 1$, $l_2 = 2$, $m_1 = 2$, $m_2 = 1$ and $g = 9.8$ $m/s^2$\n",
    "\n",
    "The initial conditions at $t = 0$ are:\n",
    "\n",
    "${{\\theta }_1}(0) = 1.5$\n",
    "\n",
    "${{\\dot \\theta }_1}(0) = 0$\n",
    "\n",
    "${{\\theta }_2}(0) = 3.0$\n",
    "\n",
    "${{\\dot \\theta }_2}(0) = 0.0$\n",
    "\n",
    "Write a program to plots the positions of the mass $m_2$ in $x-y$ coordinate over the time interval $0 \\le t \\le T\\; s$. Where $T$ are:\n",
    "\n",
    "a) 10\n",
    "\n",
    "b) 100"
   ]
  },
  {
   "cell_type": "code",
   "execution_count": null,
   "metadata": {},
   "outputs": [],
   "source": []
  }
 ],
 "metadata": {
  "kernelspec": {
   "display_name": "Python 3",
   "language": "python",
   "name": "python3"
  },
  "language_info": {
   "codemirror_mode": {
    "name": "ipython",
    "version": 3
   },
   "file_extension": ".py",
   "mimetype": "text/x-python",
   "name": "python",
   "nbconvert_exporter": "python",
   "pygments_lexer": "ipython3",
   "version": "3.9.7"
  }
 },
 "nbformat": 4,
 "nbformat_minor": 1
}
